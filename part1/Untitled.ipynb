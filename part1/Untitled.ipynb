{
 "cells": [
  {
   "cell_type": "code",
   "execution_count": 1,
   "metadata": {},
   "outputs": [],
   "source": [
    "import sys\n",
    "import numpy as np\n",
    "import matplotlib.pyplot as plt\n",
    "sys.path.append(\"..\")\n",
    "from utils import *\n",
    "from linear_regression import *\n",
    "from svm import *\n",
    "from softmax import *\n",
    "from features import *\n",
    "from kernel import *"
   ]
  },
  {
   "cell_type": "code",
   "execution_count": 2,
   "metadata": {},
   "outputs": [
    {
     "data": {
      "image/png": "[encoded data removed]",
      "text/plain": [
       "<Figure size 432x288 with 1 Axes>"
      ]
     },
     "metadata": {
      "needs_background": "light"
     },
     "output_type": "display_data"
    },
    {
     "name": "stdout",
     "output_type": "stream",
     "text": [
      "softmax test_error= 0.10050000000000003\n"
     ]
    }
   ],
   "source": [
    "def run_softmax_on_MNIST(temp_parameter=1):\n",
    "    \"\"\"\n",
    "    Trains softmax, classifies test data, computes test error, and plots cost function\n",
    "\n",
    "    Runs softmax_regression on the MNIST training set and computes the test error using\n",
    "    the test set. It uses the following values for parameters:\n",
    "    alpha = 0.3\n",
    "    lambda = 1e-4\n",
    "    num_iterations = 150\n",
    "\n",
    "    Saves the final theta to ./theta.pkl.gz\n",
    "\n",
    "    Returns:\n",
    "        Final test error\n",
    "    \"\"\"\n",
    "    train_x, train_y, test_x, test_y = get_MNIST_data()\n",
    "    theta, cost_function_history = softmax_regression(train_x, train_y, temp_parameter, alpha=0.3, lambda_factor=1.0e-4, k=10, num_iterations=150)\n",
    "    plot_cost_function_over_time(cost_function_history)\n",
    "    test_error = compute_test_error(test_x, test_y, theta, temp_parameter)\n",
    "    # Save the model parameters theta obtained from calling softmax_regression to disk.\n",
    "    write_pickle_data(theta, \"./theta.pkl.gz\")\n",
    "\n",
    "    # TODO: add your code here for the \"Using the Current Model\" question in tab 4.\n",
    "    #      and print the test_error_mod3\n",
    "    return test_error\n",
    "\n",
    "\n",
    "print('softmax test_error=', run_softmax_on_MNIST(temp_parameter=1))"
   ]
  },
  {
   "cell_type": "code",
   "execution_count": null,
   "metadata": {},
   "outputs": [],
   "source": []
  }
 ],
 "metadata": {
  "kernelspec": {
   "display_name": "Python 3",
   "language": "python",
   "name": "python3"
  },
  "language_info": {
   "codemirror_mode": {
    "name": "ipython",
    "version": 3
   },
   "file_extension": ".py",
   "mimetype": "text/x-python",
   "name": "python",
   "nbconvert_exporter": "python",
   "pygments_lexer": "ipython3",
   "version": "3.7.3"
  }
 },
 "nbformat": 4,
 "nbformat_minor": 2
}
