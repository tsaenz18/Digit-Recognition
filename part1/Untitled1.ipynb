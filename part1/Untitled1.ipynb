{
 "cells": [
  {
   "cell_type": "code",
   "execution_count": 14,
   "metadata": {},
   "outputs": [],
   "source": [
    "import sys\n",
    "import numpy as np\n",
    "import matplotlib.pyplot as plt\n",
    "sys.path.append(\"..\")\n",
    "from utils import *\n",
    "from features import *"
   ]
  },
  {
   "cell_type": "code",
   "execution_count": 15,
   "metadata": {},
   "outputs": [],
   "source": [
    "def principal_components(X):\n",
    "    \"\"\"\n",
    "    Returns the principal component vectors of the data, sorted in decreasing order\n",
    "    of eigenvalue magnitude. This function first caluclates the covariance matrix\n",
    "    and then finds its eigenvectors.\n",
    "\n",
    "    Args:\n",
    "        X - n x d NumPy array of n data points, each with d features\n",
    "\n",
    "    Returns:\n",
    "        d x d NumPy array whose columns are the principal component directions sorted\n",
    "        in descending order by the amount of variation each direction (these are\n",
    "        equivalent to the d eigenvectors of the covariance matrix sorted in descending\n",
    "        order of eigenvalues, so the first column corresponds to the eigenvector with\n",
    "        the largest eigenvalue\n",
    "    \"\"\"\n",
    "    centered_data = center_data(X)  # first center data\n",
    "    scatter_matrix = np.dot(centered_data.transpose(), centered_data)\n",
    "    eigen_values, eigen_vectors = np.linalg.eig(scatter_matrix)\n",
    "    # Re-order eigenvectors by eigenvalue magnitude:\n",
    "    idx = eigen_values.argsort()[::-1]\n",
    "    eigen_values = eigen_values[idx]\n",
    "    eigen_vectors = eigen_vectors[:, idx]\n",
    "    return eigen_vectors"
   ]
  },
  {
   "cell_type": "code",
   "execution_count": 16,
   "metadata": {},
   "outputs": [],
   "source": [
    "def center_data(X):\n",
    "    \"\"\"\n",
    "    Returns a centered version of the data, where each feature now has mean = 0\n",
    "\n",
    "    Args:\n",
    "        X - n x d NumPy array of n data points, each with d features\n",
    "\n",
    "    Returns:\n",
    "        n x d NumPy array X' where for each i = 1, ..., n and j = 1, ..., d:\n",
    "        X'[i][j] = X[i][j] - means[j]\n",
    "    \"\"\"\n",
    "    feature_means = X.mean(axis=0)\n",
    "    return(X - feature_means)"
   ]
  },
  {
   "cell_type": "code",
   "execution_count": 17,
   "metadata": {},
   "outputs": [],
   "source": [
    "train_x, train_y, test_x, test_y = get_MNIST_data()"
   ]
  },
  {
   "cell_type": "code",
   "execution_count": 19,
   "metadata": {},
   "outputs": [],
   "source": [
    "n_components = 18\n",
    "pcs = principal_components(train_x)\n",
    "train_pca = project_onto_PC(train_x, pcs, n_components)\n",
    "test_pca = project_onto_PC(test_x, pcs, n_components)"
   ]
  },
  {
   "cell_type": "code",
   "execution_count": 20,
   "metadata": {},
   "outputs": [
    {
     "data": {
      "image/png": "[encoded data removed]",
      "text/plain": [
       "<Figure size 432x288 with 1 Axes>"
      ]
     },
     "metadata": {
      "needs_background": "light"
     },
     "output_type": "display_data"
    }
   ],
   "source": [
    "plot_PC(train_x[range(100), ], pcs, train_y[range(100)])"
   ]
  },
  {
   "cell_type": "code",
   "execution_count": 21,
   "metadata": {},
   "outputs": [
    {
     "data": {
      "image/png": "[encoded data removed]",
      "text/plain": [
       "<Figure size 432x288 with 1 Axes>"
      ]
     },
     "metadata": {
      "needs_background": "light"
     },
     "output_type": "display_data"
    },
    {
     "data": {
      "image/png": "[encoded data removed]",
      "text/plain": [
       "<Figure size 432x288 with 1 Axes>"
      ]
     },
     "metadata": {
      "needs_background": "light"
     },
     "output_type": "display_data"
    }
   ],
   "source": [
    "firstimage_reconstructed = reconstruct_PC(train_pca[0, ], pcs, n_components, train_x)\n",
    "plot_images(firstimage_reconstructed)\n",
    "plot_images(train_x[0, ])"
   ]
  },
  {
   "cell_type": "code",
   "execution_count": 22,
   "metadata": {},
   "outputs": [
    {
     "data": {
      "image/png": "[encoded data removed]",
      "text/plain": [
       "<Figure size 432x288 with 1 Axes>"
      ]
     },
     "metadata": {
      "needs_background": "light"
     },
     "output_type": "display_data"
    },
    {
     "data": {
      "image/png": "[encoded data removed]",
      "text/plain": [
       "<Figure size 432x288 with 1 Axes>"
      ]
     },
     "metadata": {
      "needs_background": "light"
     },
     "output_type": "display_data"
    }
   ],
   "source": [
    "secondimage_reconstructed = reconstruct_PC(train_pca[1, ], pcs, n_components, train_x)\n",
    "plot_images(secondimage_reconstructed)\n",
    "plot_images(train_x[1, ])"
   ]
  },
  {
   "cell_type": "code",
   "execution_count": 23,
   "metadata": {},
   "outputs": [
    {
     "ename": "NameError",
     "evalue": "name 'train_pca10' is not defined",
     "output_type": "error",
     "traceback": [
      "\u001b[0;31m---------------------------------------------------------------------------\u001b[0m",
      "\u001b[0;31mNameError\u001b[0m                                 Traceback (most recent call last)",
      "\u001b[0;32m<ipython-input-23-851e8962e717>\u001b[0m in \u001b[0;36m<module>\u001b[0;34m\u001b[0m\n\u001b[0;32m----> 1\u001b[0;31m \u001b[0mtrain_cube\u001b[0m \u001b[0;34m=\u001b[0m \u001b[0mcubic_features\u001b[0m\u001b[0;34m(\u001b[0m\u001b[0mtrain_pca10\u001b[0m\u001b[0;34m)\u001b[0m\u001b[0;34m\u001b[0m\u001b[0;34m\u001b[0m\u001b[0m\n\u001b[0m\u001b[1;32m      2\u001b[0m \u001b[0mtest_cube\u001b[0m \u001b[0;34m=\u001b[0m \u001b[0mcubic_features\u001b[0m\u001b[0;34m(\u001b[0m\u001b[0mtest_pca10\u001b[0m\u001b[0;34m)\u001b[0m\u001b[0;34m\u001b[0m\u001b[0;34m\u001b[0m\u001b[0m\n",
      "\u001b[0;31mNameError\u001b[0m: name 'train_pca10' is not defined"
     ]
    }
   ],
   "source": [
    "train_cube = cubic_features(train_pca10)\n",
    "test_cube = cubic_features(test_pca10)"
   ]
  },
  {
   "cell_type": "code",
   "execution_count": null,
   "metadata": {},
   "outputs": [],
   "source": []
  }
 ],
 "metadata": {
  "kernelspec": {
   "display_name": "Python 3",
   "language": "python",
   "name": "python3"
  },
  "language_info": {
   "codemirror_mode": {
    "name": "ipython",
    "version": 3
   },
   "file_extension": ".py",
   "mimetype": "text/x-python",
   "name": "python",
   "nbconvert_exporter": "python",
   "pygments_lexer": "ipython3",
   "version": "3.7.3"
  }
 },
 "nbformat": 4,
 "nbformat_minor": 2
}
